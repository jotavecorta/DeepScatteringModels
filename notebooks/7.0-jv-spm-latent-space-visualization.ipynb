{
 "cells": [
  {
   "cell_type": "code",
   "execution_count": null,
   "metadata": {},
   "outputs": [],
   "source": []
  }
 ],
 "metadata": {
  "kernelspec": {
   "display_name": "tesis",
   "language": "python",
   "name": "python3"
  },
  "language_info": {
   "name": "python",
   "version": "3.10.6"
  },
  "orig_nbformat": 4,
  "vscode": {
   "interpreter": {
    "hash": "108e1cc6a60d66fe97f96d2e8e10d7bf778806389051764108cdd128ca1fcb58"
   }
  }
 },
 "nbformat": 4,
 "nbformat_minor": 2
}
