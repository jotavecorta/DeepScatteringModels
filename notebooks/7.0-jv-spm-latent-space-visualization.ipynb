{
 "cells": [
  {
   "attachments": {},
   "cell_type": "markdown",
   "metadata": {},
   "source": [
    "## Latent Space Visualizations\n",
    "\n",
    "Visualizamos cómo codifican los datos los modelos entrenados, y qué relaciones guardan las variables codificadas con las variables físicas de los modelos de scattering."
   ]
  },
  {
   "attachments": {},
   "cell_type": "markdown",
   "metadata": {},
   "source": [
    "Carguemos los modelos entrenados y creamos datos barriendo algún parámetros. Por ejemplo la constante dieléctrica."
   ]
  },
  {
   "cell_type": "code",
   "execution_count": null,
   "metadata": {},
   "outputs": [],
   "source": []
  },
  {
   "attachments": {},
   "cell_type": "markdown",
   "metadata": {},
   "source": [
    "Veamos como se traducen los datos de entrada en los datos de salida. Qué forma tienen los histogramas de cada una de las unidades"
   ]
  },
  {
   "cell_type": "code",
   "execution_count": null,
   "metadata": {},
   "outputs": [],
   "source": []
  },
  {
   "attachments": {},
   "cell_type": "markdown",
   "metadata": {},
   "source": [
    "Grafiquemos en una sábana como se ven las salidas en función de $\\epsilon$ y $s$."
   ]
  },
  {
   "cell_type": "code",
   "execution_count": null,
   "metadata": {},
   "outputs": [],
   "source": []
  },
  {
   "attachments": {},
   "cell_type": "markdown",
   "metadata": {},
   "source": [
    "Comparemos con valores máximos y minimos de los intervalos en los que se mueven los parámetros"
   ]
  },
  {
   "cell_type": "code",
   "execution_count": null,
   "metadata": {},
   "outputs": [],
   "source": []
  }
 ],
 "metadata": {
  "kernelspec": {
   "display_name": "tesis",
   "language": "python",
   "name": "python3"
  },
  "language_info": {
   "name": "python",
   "version": "3.10.6"
  },
  "orig_nbformat": 4,
  "vscode": {
   "interpreter": {
    "hash": "108e1cc6a60d66fe97f96d2e8e10d7bf778806389051764108cdd128ca1fcb58"
   }
  }
 },
 "nbformat": 4,
 "nbformat_minor": 2
}
