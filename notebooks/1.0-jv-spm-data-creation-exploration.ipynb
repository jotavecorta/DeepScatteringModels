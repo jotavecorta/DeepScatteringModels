{
 "cells": [
  {
   "cell_type": "markdown",
   "metadata": {},
   "source": [
    "## Data Creation for Convolutional-Autoencoder \n",
    "\n",
    "Generamos datos sintéticos de firmas polarimétricas provenientes de superficies rugosas. Las mismas se simulan bajo la aproximación SPM de segundo orden, considerando un _stack_ de dos capas rugosas como suelo a incidir. \n",
    "\n",
    "Luego visualizamos y exploramos la distribución de los datos, y sus características. "
   ]
  },
  {
   "cell_type": "markdown",
   "metadata": {},
   "source": [
    "### 1 - Generación de datos "
   ]
  },
  {
   "cell_type": "markdown",
   "metadata": {},
   "source": [
    "Comenzamos importando los módulos que vamos a utilizar en el notebook"
   ]
  },
  {
   "cell_type": "code",
   "execution_count": 1,
   "metadata": {},
   "outputs": [],
   "source": [
    "import numpy as np\n",
    "from matplotlib import pyplot as plt\n",
    "\n",
    "from deep_scattering_models.data.create_data import make_data, save_data, load_data\n",
    "from deep_scattering_models.visualization.visualize import plot_polarization_signature, plot_histogram\n",
    "from deep_scattering_models.features.preprocess_data import to_dB"
   ]
  },
  {
   "cell_type": "markdown",
   "metadata": {},
   "source": [
    "Generamos 20048 firmas polarimétricas de $45x90$, con ruido de distribución wishard agregado. El espacio de parámetros sobre el que se samplea puede consultarse en la documentación de la función ``create_data.init_parameters_grid``.\n",
    "\n",
    "Luego guardamos los como un solo ndarray en la carpeta data del repositorio."
   ]
  },
  {
   "cell_type": "code",
   "execution_count": 2,
   "metadata": {},
   "outputs": [],
   "source": [
    "# Generamos los datos\n",
    "data = make_data()\n",
    "\n",
    "# Guardamos los datos en data\n",
    "file_name = \"spm_signatures_no_noise.npy\"\n",
    "save_data(file_name, data)"
   ]
  },
  {
   "cell_type": "markdown",
   "metadata": {},
   "source": [
    "Veamos la pinta de alguna de las firmas polarimétricas generadas"
   ]
  },
  {
   "cell_type": "code",
   "execution_count": null,
   "metadata": {},
   "outputs": [],
   "source": [
    "# Elegimos ana firma al azar\n",
    "rng = np.random.default_rng()\n",
    "rnd_index = rng.integers(20048)\n",
    "rnd_signature = data[rnd_index, :, :]\n",
    "\n",
    "# Ploteamos\n",
    "plot_polarization_signature(rnd_signature)"
   ]
  },
  {
   "cell_type": "markdown",
   "metadata": {},
   "source": [
    "### 2 - Exploración de los Datos"
   ]
  },
  {
   "cell_type": "markdown",
   "metadata": {},
   "source": [
    "Veamos cual es la distribución de los datos en crudo"
   ]
  },
  {
   "cell_type": "code",
   "execution_count": null,
   "metadata": {},
   "outputs": [],
   "source": [
    "plot_histogram(data)"
   ]
  },
  {
   "cell_type": "markdown",
   "metadata": {},
   "source": [
    "Pasemos los datos a dB, y volvamos a ver qué forma tiene su histograma"
   ]
  },
  {
   "cell_type": "code",
   "execution_count": null,
   "metadata": {},
   "outputs": [],
   "source": [
    "data_dB = to_dB(data)\n",
    "ax = plot_histogram(data_dB)\n",
    "ax.set_xlabel(r\"$\\sigma(\\psi, \\chi)$ [dB]\") "
   ]
  }
 ],
 "metadata": {
  "kernelspec": {
   "display_name": "Python 3.8.10 ('tesis')",
   "language": "python",
   "name": "python3"
  },
  "language_info": {
   "codemirror_mode": {
    "name": "ipython",
    "version": 3
   },
   "file_extension": ".py",
   "mimetype": "text/x-python",
   "name": "python",
   "nbconvert_exporter": "python",
   "pygments_lexer": "ipython3",
   "version": "3.8.10"
  },
  "orig_nbformat": 4,
  "vscode": {
   "interpreter": {
    "hash": "f4f79008d837168bd48106ab85d9926a031ca3c278193226f692524af2f01691"
   }
  }
 },
 "nbformat": 4,
 "nbformat_minor": 2
}
