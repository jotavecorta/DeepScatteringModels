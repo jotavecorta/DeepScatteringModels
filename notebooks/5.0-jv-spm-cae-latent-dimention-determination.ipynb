{
 "cells": [
  {
   "cell_type": "markdown",
   "metadata": {},
   "source": [
    "## Latent Dimention - First Exploration\n",
    "\n",
    "Con la arquitectura de nuestro CAE determinada en 4.0, buscamos la dimensión mínima del espacio latente que pueda reproducir los datos de entrada con una dada precisión. Para eso vamos a entrenar distintos modelos en los que solo se varía la dimensión del espacio latente y buscar un codo en el score medio de las últimas 10 epochs."
   ]
  },
  {
   "cell_type": "code",
   "execution_count": 3,
   "metadata": {},
   "outputs": [],
   "source": [
    "import json\n",
    "import os\n",
    "import pickle\n",
    "\n",
    "from kneed import KneeLocator\n",
    "import pandas as pd\n",
    "from sklearn.model_selection import train_test_split\n",
    "import tensorflow as tf\n",
    "from tqdm import tqdm\n",
    "\n",
    "from deep_scattering_models.data.create_data import load_data\n",
    "from deep_scattering_models.features.preprocess_data import to_dB, remove_outliers\n",
    "from deep_scattering_models.models.model_wrappers import build_cae_architecture\n",
    "from deep_scattering_models.models.select_model import load_configuration, k_fold_cv, save_configuration\n",
    "from deep_scattering_models.visualization.visualize import plot_polarization_signature, plot_history"
   ]
  },
  {
   "cell_type": "markdown",
   "metadata": {},
   "source": [
    "Comenzamos cargando los datos y la configuración de nuestro CAE"
   ]
  },
  {
   "cell_type": "code",
   "execution_count": 2,
   "metadata": {},
   "outputs": [],
   "source": [
    "raw_data_filename = \"raw/spm_signatures_no_noise\"\n",
    "raw_data = load_data(raw_data_filename)"
   ]
  },
  {
   "cell_type": "code",
   "execution_count": 4,
   "metadata": {},
   "outputs": [],
   "source": [
    "data_no_outliers = remove_outliers(raw_data, k=100)\n",
    "data_dB = to_dB(data_no_outliers)\n",
    "train_set, test_set = train_test_split(\n",
    "    data_dB, \n",
    "    test_size=.2, \n",
    "    random_state=123\n",
    "    )"
   ]
  },
  {
   "cell_type": "code",
   "execution_count": 5,
   "metadata": {},
   "outputs": [],
   "source": [
    "cae_configuration = load_configuration(\"model_architecture_spm.json\")"
   ]
  },
  {
   "cell_type": "markdown",
   "metadata": {},
   "source": [
    "Variamos la dimensión del espacio latente de 16 unidades a 1 unidad. Registramos el MSE y el MAE del conjunto de testeo para cada una de las configuraciones."
   ]
  },
  {
   "cell_type": "code",
   "execution_count": 6,
   "metadata": {},
   "outputs": [
    {
     "name": "stderr",
     "output_type": "stream",
     "text": [
      "100%|██████████| 16/16 [2:01:07<00:00, 454.23s/it]\n"
     ]
    }
   ],
   "source": [
    "# Initialize list for results\n",
    "models_scores = []\n",
    "not_tested_configurations = []\n",
    "\n",
    "config_keys = ('conv_layers_config', 'dense_layers_config')\n",
    "\n",
    "for lat_dim in tqdm(range(1, 17)):\n",
    "    configuration = {keys : cae_configuration[keys] for keys in config_keys}\n",
    "    configuration.update({\"latent_dimension\" : lat_dim})\n",
    "    configuration.update({\"batch_size\" : 32})\n",
    "\n",
    "    try:\n",
    "        k_fold_score = k_fold_cv(\n",
    "            train_set, \n",
    "            build_cae_architecture, \n",
    "            configuration\n",
    "            )\n",
    "    \n",
    "    except tf.errors.ResourceExhaustedError:\n",
    "        # If gpu memory is exhausted\n",
    "        not_tested_configurations.append(configuration)\n",
    "        \n",
    "        raise Warning(('La actual configuración agotó los recursos '\n",
    "        f'de memoria y no fue evaluada: \\n {configuration}'))  \n",
    "    \n",
    "    else:\n",
    "        # Update scores\n",
    "        configuration.update(k_fold_score)\n",
    "        models_scores.append(configuration)\n",
    "\n",
    "    finally:\n",
    "        continue    "
   ]
  },
  {
   "cell_type": "code",
   "execution_count": 10,
   "metadata": {},
   "outputs": [
    {
     "data": {
      "text/html": [
       "<div>\n",
       "<style scoped>\n",
       "    .dataframe tbody tr th:only-of-type {\n",
       "        vertical-align: middle;\n",
       "    }\n",
       "\n",
       "    .dataframe tbody tr th {\n",
       "        vertical-align: top;\n",
       "    }\n",
       "\n",
       "    .dataframe thead th {\n",
       "        text-align: right;\n",
       "    }\n",
       "</style>\n",
       "<table border=\"1\" class=\"dataframe\">\n",
       "  <thead>\n",
       "    <tr style=\"text-align: right;\">\n",
       "      <th></th>\n",
       "      <th>conv_layers_config</th>\n",
       "      <th>dense_layers_config</th>\n",
       "      <th>latent_dimension</th>\n",
       "      <th>batch_size</th>\n",
       "      <th>score</th>\n",
       "      <th>train_score</th>\n",
       "    </tr>\n",
       "  </thead>\n",
       "  <tbody>\n",
       "    <tr>\n",
       "      <th>0</th>\n",
       "      <td>{'layers_config': [[4, ListWrapper([3, 4]), 2]...</td>\n",
       "      <td>{'layers_units': [256]}</td>\n",
       "      <td>1</td>\n",
       "      <td>32</td>\n",
       "      <td>0.006877</td>\n",
       "      <td>0.006783</td>\n",
       "    </tr>\n",
       "    <tr>\n",
       "      <th>1</th>\n",
       "      <td>{'layers_config': [[4, ListWrapper([3, 4]), 2]...</td>\n",
       "      <td>{'layers_units': [256]}</td>\n",
       "      <td>2</td>\n",
       "      <td>32</td>\n",
       "      <td>0.001623</td>\n",
       "      <td>0.001436</td>\n",
       "    </tr>\n",
       "    <tr>\n",
       "      <th>2</th>\n",
       "      <td>{'layers_config': [[4, ListWrapper([3, 4]), 2]...</td>\n",
       "      <td>{'layers_units': [256]}</td>\n",
       "      <td>3</td>\n",
       "      <td>32</td>\n",
       "      <td>0.000899</td>\n",
       "      <td>0.001018</td>\n",
       "    </tr>\n",
       "    <tr>\n",
       "      <th>3</th>\n",
       "      <td>{'layers_config': [[4, ListWrapper([3, 4]), 2]...</td>\n",
       "      <td>{'layers_units': [256]}</td>\n",
       "      <td>4</td>\n",
       "      <td>32</td>\n",
       "      <td>0.001076</td>\n",
       "      <td>0.000861</td>\n",
       "    </tr>\n",
       "    <tr>\n",
       "      <th>4</th>\n",
       "      <td>{'layers_config': [[4, ListWrapper([3, 4]), 2]...</td>\n",
       "      <td>{'layers_units': [256]}</td>\n",
       "      <td>5</td>\n",
       "      <td>32</td>\n",
       "      <td>0.001137</td>\n",
       "      <td>0.000892</td>\n",
       "    </tr>\n",
       "    <tr>\n",
       "      <th>5</th>\n",
       "      <td>{'layers_config': [[4, ListWrapper([3, 4]), 2]...</td>\n",
       "      <td>{'layers_units': [256]}</td>\n",
       "      <td>6</td>\n",
       "      <td>32</td>\n",
       "      <td>0.000742</td>\n",
       "      <td>0.000776</td>\n",
       "    </tr>\n",
       "    <tr>\n",
       "      <th>6</th>\n",
       "      <td>{'layers_config': [[4, ListWrapper([3, 4]), 2]...</td>\n",
       "      <td>{'layers_units': [256]}</td>\n",
       "      <td>7</td>\n",
       "      <td>32</td>\n",
       "      <td>0.000935</td>\n",
       "      <td>0.000842</td>\n",
       "    </tr>\n",
       "    <tr>\n",
       "      <th>7</th>\n",
       "      <td>{'layers_config': [[4, ListWrapper([3, 4]), 2]...</td>\n",
       "      <td>{'layers_units': [256]}</td>\n",
       "      <td>8</td>\n",
       "      <td>32</td>\n",
       "      <td>0.000841</td>\n",
       "      <td>0.000803</td>\n",
       "    </tr>\n",
       "    <tr>\n",
       "      <th>8</th>\n",
       "      <td>{'layers_config': [[4, ListWrapper([3, 4]), 2]...</td>\n",
       "      <td>{'layers_units': [256]}</td>\n",
       "      <td>9</td>\n",
       "      <td>32</td>\n",
       "      <td>0.000798</td>\n",
       "      <td>0.000883</td>\n",
       "    </tr>\n",
       "    <tr>\n",
       "      <th>9</th>\n",
       "      <td>{'layers_config': [[4, ListWrapper([3, 4]), 2]...</td>\n",
       "      <td>{'layers_units': [256]}</td>\n",
       "      <td>10</td>\n",
       "      <td>32</td>\n",
       "      <td>0.000735</td>\n",
       "      <td>0.000834</td>\n",
       "    </tr>\n",
       "    <tr>\n",
       "      <th>10</th>\n",
       "      <td>{'layers_config': [[4, ListWrapper([3, 4]), 2]...</td>\n",
       "      <td>{'layers_units': [256]}</td>\n",
       "      <td>11</td>\n",
       "      <td>32</td>\n",
       "      <td>0.001654</td>\n",
       "      <td>0.000887</td>\n",
       "    </tr>\n",
       "    <tr>\n",
       "      <th>11</th>\n",
       "      <td>{'layers_config': [[4, ListWrapper([3, 4]), 2]...</td>\n",
       "      <td>{'layers_units': [256]}</td>\n",
       "      <td>12</td>\n",
       "      <td>32</td>\n",
       "      <td>0.000789</td>\n",
       "      <td>0.000806</td>\n",
       "    </tr>\n",
       "    <tr>\n",
       "      <th>12</th>\n",
       "      <td>{'layers_config': [[4, ListWrapper([3, 4]), 2]...</td>\n",
       "      <td>{'layers_units': [256]}</td>\n",
       "      <td>13</td>\n",
       "      <td>32</td>\n",
       "      <td>0.000862</td>\n",
       "      <td>0.000731</td>\n",
       "    </tr>\n",
       "    <tr>\n",
       "      <th>13</th>\n",
       "      <td>{'layers_config': [[4, ListWrapper([3, 4]), 2]...</td>\n",
       "      <td>{'layers_units': [256]}</td>\n",
       "      <td>14</td>\n",
       "      <td>32</td>\n",
       "      <td>0.001033</td>\n",
       "      <td>0.000917</td>\n",
       "    </tr>\n",
       "    <tr>\n",
       "      <th>14</th>\n",
       "      <td>{'layers_config': [[4, ListWrapper([3, 4]), 2]...</td>\n",
       "      <td>{'layers_units': [256]}</td>\n",
       "      <td>15</td>\n",
       "      <td>32</td>\n",
       "      <td>0.001097</td>\n",
       "      <td>0.000851</td>\n",
       "    </tr>\n",
       "    <tr>\n",
       "      <th>15</th>\n",
       "      <td>{'layers_config': [[4, ListWrapper([3, 4]), 2]...</td>\n",
       "      <td>{'layers_units': [256]}</td>\n",
       "      <td>16</td>\n",
       "      <td>32</td>\n",
       "      <td>0.001076</td>\n",
       "      <td>0.000994</td>\n",
       "    </tr>\n",
       "  </tbody>\n",
       "</table>\n",
       "</div>"
      ],
      "text/plain": [
       "                                   conv_layers_config  \\\n",
       "0   {'layers_config': [[4, ListWrapper([3, 4]), 2]...   \n",
       "1   {'layers_config': [[4, ListWrapper([3, 4]), 2]...   \n",
       "2   {'layers_config': [[4, ListWrapper([3, 4]), 2]...   \n",
       "3   {'layers_config': [[4, ListWrapper([3, 4]), 2]...   \n",
       "4   {'layers_config': [[4, ListWrapper([3, 4]), 2]...   \n",
       "5   {'layers_config': [[4, ListWrapper([3, 4]), 2]...   \n",
       "6   {'layers_config': [[4, ListWrapper([3, 4]), 2]...   \n",
       "7   {'layers_config': [[4, ListWrapper([3, 4]), 2]...   \n",
       "8   {'layers_config': [[4, ListWrapper([3, 4]), 2]...   \n",
       "9   {'layers_config': [[4, ListWrapper([3, 4]), 2]...   \n",
       "10  {'layers_config': [[4, ListWrapper([3, 4]), 2]...   \n",
       "11  {'layers_config': [[4, ListWrapper([3, 4]), 2]...   \n",
       "12  {'layers_config': [[4, ListWrapper([3, 4]), 2]...   \n",
       "13  {'layers_config': [[4, ListWrapper([3, 4]), 2]...   \n",
       "14  {'layers_config': [[4, ListWrapper([3, 4]), 2]...   \n",
       "15  {'layers_config': [[4, ListWrapper([3, 4]), 2]...   \n",
       "\n",
       "        dense_layers_config  latent_dimension  batch_size     score  \\\n",
       "0   {'layers_units': [256]}                 1          32  0.006877   \n",
       "1   {'layers_units': [256]}                 2          32  0.001623   \n",
       "2   {'layers_units': [256]}                 3          32  0.000899   \n",
       "3   {'layers_units': [256]}                 4          32  0.001076   \n",
       "4   {'layers_units': [256]}                 5          32  0.001137   \n",
       "5   {'layers_units': [256]}                 6          32  0.000742   \n",
       "6   {'layers_units': [256]}                 7          32  0.000935   \n",
       "7   {'layers_units': [256]}                 8          32  0.000841   \n",
       "8   {'layers_units': [256]}                 9          32  0.000798   \n",
       "9   {'layers_units': [256]}                10          32  0.000735   \n",
       "10  {'layers_units': [256]}                11          32  0.001654   \n",
       "11  {'layers_units': [256]}                12          32  0.000789   \n",
       "12  {'layers_units': [256]}                13          32  0.000862   \n",
       "13  {'layers_units': [256]}                14          32  0.001033   \n",
       "14  {'layers_units': [256]}                15          32  0.001097   \n",
       "15  {'layers_units': [256]}                16          32  0.001076   \n",
       "\n",
       "    train_score  \n",
       "0      0.006783  \n",
       "1      0.001436  \n",
       "2      0.001018  \n",
       "3      0.000861  \n",
       "4      0.000892  \n",
       "5      0.000776  \n",
       "6      0.000842  \n",
       "7      0.000803  \n",
       "8      0.000883  \n",
       "9      0.000834  \n",
       "10     0.000887  \n",
       "11     0.000806  \n",
       "12     0.000731  \n",
       "13     0.000917  \n",
       "14     0.000851  \n",
       "15     0.000994  "
      ]
     },
     "execution_count": 10,
     "metadata": {},
     "output_type": "execute_result"
    }
   ],
   "source": [
    "df_score = pd.DataFrame.from_records(models_scores)\n",
    "df_score"
   ]
  },
  {
   "cell_type": "markdown",
   "metadata": {},
   "source": [
    "Guardamos los scores serializados en un pkl"
   ]
  },
  {
   "cell_type": "code",
   "execution_count": 8,
   "metadata": {},
   "outputs": [],
   "source": [
    "# Get resutls directory path\n",
    "src_dir = os.path.normpath(os.getcwd() + '/..')\n",
    "results_dir = os.path.join(src_dir, 'results/spm')\n",
    "\n",
    "# File name and dir\n",
    "file_name = 'spm_ld_scores.pkl'\n",
    "file_dir = os.path.join(results_dir, file_name)\n",
    "\n",
    "# # Save model_scores as pkl\n",
    "# with open(file_dir, 'wb') as f:\n",
    "#     pickle.dump(models_scores, f)"
   ]
  },
  {
   "cell_type": "code",
   "execution_count": 9,
   "metadata": {},
   "outputs": [
    {
     "data": {
      "image/png": "[encoded data removed]",
      "text/plain": [
       "<Figure size 720x648 with 1 Axes>"
      ]
     },
     "metadata": {
      "needs_background": "light"
     },
     "output_type": "display_data"
    }
   ],
   "source": [
    "from matplotlib import pyplot as plt\n",
    "# Visualizo los errores -  Mean Absolute error\n",
    "fig, ax = plt.subplots(figsize = (10,9))\n",
    "ax.plot(range(1, 17), df_score['score'])\n",
    "ax.set_title('Dimensionalidad del modelo')\n",
    "ax.set_ylabel('Mean Absolute Error')\n",
    "ax.set_xlabel('Dimensión espacio latente')\n",
    "ax.set_xlim((1, 16))\n",
    "plt.tight_layout()"
   ]
  },
  {
   "attachments": {},
   "cell_type": "markdown",
   "metadata": {},
   "source": [
    "Buscamos el codo con un método basado en la derivada segunda de la curva y entrenamos un modelo con el número de unidades del epacio latente resultantes."
   ]
  },
  {
   "cell_type": "code",
   "execution_count": null,
   "metadata": {},
   "outputs": [],
   "source": [
    "# Cargo los scores de cada modelo\n",
    "with open(file_dir, \"rb\") as file_:\n",
    "    scores = pickle.load(file_)\n",
    "\n",
    "kl = KneeLocator(range(1, 17), scores, curve=\"convex\", direction=\"decreasing\")\n",
    "print(f\"El como está en dim={kl.elbow}\")"
   ]
  },
  {
   "cell_type": "code",
   "execution_count": null,
   "metadata": {},
   "outputs": [],
   "source": []
  }
 ],
 "metadata": {
  "kernelspec": {
   "display_name": "Python 3.8.10 ('tesis')",
   "language": "python",
   "name": "python3"
  },
  "language_info": {
   "codemirror_mode": {
    "name": "ipython",
    "version": 3
   },
   "file_extension": ".py",
   "mimetype": "text/x-python",
   "name": "python",
   "nbconvert_exporter": "python",
   "pygments_lexer": "ipython3",
   "version": "3.8.10 (default, Jun 22 2022, 20:18:18) \n[GCC 9.4.0]"
  },
  "orig_nbformat": 4,
  "vscode": {
   "interpreter": {
    "hash": "f4f79008d837168bd48106ab85d9926a031ca3c278193226f692524af2f01691"
   }
  }
 },
 "nbformat": 4,
 "nbformat_minor": 2
}
