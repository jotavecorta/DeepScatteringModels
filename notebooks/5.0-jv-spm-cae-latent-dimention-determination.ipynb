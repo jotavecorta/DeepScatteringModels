{
 "cells": [
  {
   "cell_type": "markdown",
   "metadata": {},
   "source": [
    "## Latent Dimention - First Exploration\n",
    "\n",
    "Con la arquitectura de nuestro CAE determinada en 4.0, buscamos la dimensión mínima del espacio latente que pueda reproducir los datos de entrada con una dada precisión. Para eso vamos a entrenar distintos modelos en los que solo se varía la dimensión del espacio latente y buscar un codo en el score medio de las últimas 10 epochs."
   ]
  },
  {
   "cell_type": "code",
   "execution_count": null,
   "metadata": {},
   "outputs": [],
   "source": [
    "import json\n",
    "import os\n",
    "import pickle\n",
    "\n",
    "import pandas as pd\n",
    "import tensorflow as tf\n",
    "from tqdm import tqdm\n",
    "\n",
    "from deep_scattering_models.data.create_data import load_data\n",
    "from deep_scattering_models.models.model_wrappers import build_cae_architecture\n",
    "from deep_scattering_models.models.select_model import load_configuration, k_fold_cv, save_configuration\n",
    "from deep_scattering_models.visualization.visualize import plot_polarization_signature, plot_history"
   ]
  },
  {
   "cell_type": "markdown",
   "metadata": {},
   "source": [
    "Comenzamos cargando los datos y la configuración de nuestro CAE"
   ]
  },
  {
   "cell_type": "code",
   "execution_count": null,
   "metadata": {},
   "outputs": [],
   "source": [
    "train_set = load_data(\"processed/spm_signatures_r_scale_train_set\")\n",
    "test_set = load_data(\"processed/spm_signatures_r_scale_test_set\")\n",
    "\n",
    "cae_configuration = load_configuration(\"model_architecture_spm.json\")"
   ]
  },
  {
   "cell_type": "markdown",
   "metadata": {},
   "source": [
    "Variamos la dimensión del espacio latente de 16 unidades a 1 unidad. Registramos el MSE y el MAE del conjunto de testeo para cada una de las configuraciones."
   ]
  },
  {
   "cell_type": "code",
   "execution_count": null,
   "metadata": {},
   "outputs": [],
   "source": [
    "# Initialize list for results\n",
    "models_scores = []\n",
    "not_tested_configurations = []\n",
    "\n",
    "for lat_dim in tqdm(range(1, 17)):\n",
    "    \n",
    "    cae_configuration.update({\"latent_dimension\" : lat_dim})\n",
    "\n",
    "    try:\n",
    "        k_fold_score = k_fold_cv(\n",
    "            train_set, \n",
    "            build_cae_architecture, \n",
    "            cae_configuration\n",
    "            )\n",
    "    \n",
    "    except tf.errors.ResourceExhaustedError:\n",
    "        # If gpu memory is exhausted\n",
    "        not_tested_configurations.append(cae_configuration)\n",
    "        \n",
    "        raise Warning(('La actual configuración agotó los recursos '\n",
    "        f'de memoria y no fue evaluada: \\n {cae_configuration}'))  \n",
    "    \n",
    "    else:\n",
    "        # Update scores\n",
    "        cae_configuration.update(k_fold_score)\n",
    "        models_scores.append(cae_configuration)\n",
    "\n",
    "    finally:\n",
    "        continue    "
   ]
  },
  {
   "cell_type": "code",
   "execution_count": null,
   "metadata": {},
   "outputs": [],
   "source": [
    "df_score = pd.DataFrame.from_records(models_scores)\n",
    "df_score"
   ]
  },
  {
   "cell_type": "markdown",
   "metadata": {},
   "source": [
    "Guardamos los scores serializados en un pkl"
   ]
  },
  {
   "cell_type": "code",
   "execution_count": null,
   "metadata": {},
   "outputs": [],
   "source": [
    "# Get resutls directory path\n",
    "src_dir = os.path.normpath(os.getcwd() + '/../..')\n",
    "results_dir = os.path.join(src_dir, 'results/spm')\n",
    "\n",
    "# File name and dir\n",
    "file_name = 'spm_ld_scores.pkl'\n",
    "file_dir = os.path.join(results_dir, file_name)\n",
    "\n",
    "# Save model_scores as pkl\n",
    "with open(file_dir, 'wb') as f:\n",
    "    pickle.dump(models_scores, f)"
   ]
  }
 ],
 "metadata": {
  "kernelspec": {
   "display_name": "Python 3.8.10 ('tesis')",
   "language": "python",
   "name": "python3"
  },
  "language_info": {
   "name": "python",
   "version": "3.8.10"
  },
  "orig_nbformat": 4,
  "vscode": {
   "interpreter": {
    "hash": "f4f79008d837168bd48106ab85d9926a031ca3c278193226f692524af2f01691"
   }
  }
 },
 "nbformat": 4,
 "nbformat_minor": 2
}
