{
 "cells": [
  {
   "cell_type": "markdown",
   "metadata": {},
   "source": [
    "## Convolutional Autoencoder arquitecture optimization\n",
    "\n",
    "Con lo concluído en el anterior notebook, nos ocupamos de buscar la arquitectura de nuestro CAE -número de capas convolucionales y densas, número de filtros, funciones de activación, etc.- que mejor performance tenga ante los datos generados en 1.0; estandarizados con nuestro modelo RobustScaler."
   ]
  },
  {
   "cell_type": "code",
   "execution_count": 1,
   "metadata": {},
   "outputs": [],
   "source": [
    "import pickle\n",
    "import os\n",
    "\n",
    "from matplotlib import pyplot as plt \n",
    "import numpy as np\n",
    "import tensorflow as tf\n",
    "from tensorflow.keras import losses\n",
    "\n",
    "from deep_scattering_models.data.create_data import load_data\n",
    "\n",
    "from deep_scattering_models.models.convolutional_autoencoder import ConvAutoencoder\n",
    "\n",
    "from deep_scattering_models.visualization.visualize import plot_polarization_signature, plot_history"
   ]
  },
  {
   "cell_type": "markdown",
   "metadata": {},
   "source": [
    "Cargamos los datos crudos, para poder cargarlos en un pipline que los estandarice, pase a dB y les de forma para ingresar al CAE, en el contexto de una validación cruzada (cada uno de estos pasos debe realizarse en cada iteración, sin cruzar datos entre los folds de entrenamiento y testeo)."
   ]
  },
  {
   "cell_type": "code",
   "execution_count": 2,
   "metadata": {},
   "outputs": [],
   "source": [
    "raw_data_filename = \"raw/spm_signatures_no_noise\"\n",
    "raw_data = load_data(raw_data_filename)"
   ]
  },
  {
   "cell_type": "markdown",
   "metadata": {},
   "source": [
    "Vamos a realizar un Grid Search barriendo varias arquitecturas posibles. Para eso definimos una grilla o espacio de parámetros, sobre el cual podemos obtener un modelo para cada un de las combinaciones posibles de parámetros y evaluar su performance con nuestros datos. Para que la evaluación sea más robusta, vamos a usar K-fold Cross Validation.\n",
    "\n",
    "Comenzamos definiendo nuestra grilla de parámetros. Vamos a dejar fijo el parámetro correspondiente a la dimensión del espacio latente, en número bajo para optimizar el resto de la arquitectura -acá suponemos que la performance del modelo va a mejorar para dimensiones más altas del espacio latente-."
   ]
  },
  {
   "cell_type": "code",
   "execution_count": null,
   "metadata": {},
   "outputs": [],
   "source": [
    "# Fijamos la dimensión del espacio latente\n",
    "LATENT_DIMENTION = 3\n",
    "\n",
    "# Configuracion de las capas convolucionales\n",
    "cv_layers = [\n",
    "    [(4, (3, 4), 2), (8, (3, 3), 1)],\n",
    "    [(16, (3, 4), 2), (32, (3, 3), 1)]\n",
    "    [(32, (5, 6), 2), (64, (3, 3), 1)],\n",
    "    [(32, (3, 4), 2), (64, (3, 3), 1), (64, (3, 3), 1)],\n",
    "    [(32, (3, 4), 2), (64, (3, 3), 2), (128, (3, 3), 1)],\n",
    "    [(16, (3, 4), 2), (32, (3, 3), 2), (64, (3, 3), 1)],\n",
    "    [(32, (3, 4), 2), (64, (3, 3), 1), (64, (3, 3), 1)],\n",
    "    [(32, (3, 4), 2), (64, (2, 2), 2), (128, (3, 3), 1)],\n",
    "    [(128, (3, 4), 2), (256, (3, 3), 2), (512, (3, 3), 1)],\n",
    "    [(128, (3, 4), 2), (256, (3, 3), 1), (256, (3, 3), 1)],\n",
    "    [(128, (3, 4), 2), (256, (2, 2), 1), (256, (1, 1), 1)], \n",
    "    [(32, (3, 4), 2), (64, (3, 3), 1), (64, (3, 3), 1), (64, (3, 3), 1)],\n",
    "    [(32, (3, 4), 2), (64, (3, 3), 2), (128, (3, 3), 2), (256, (3, 3), 1)]\n",
    "    ]\n",
    "\n",
    "max_pooling = [True, False]"
   ]
  },
  {
   "cell_type": "code",
   "execution_count": null,
   "metadata": {},
   "outputs": [],
   "source": [
    "# Configuración de las capas densas\n",
    "dense_layers = [\n",
    "    (8,), (32,), (64,), (256,),\n",
    "    (32, 16), (16, 16), (64, 32),\n",
    "    (256, 128), (512, 256), (32, 32),\n",
    "    (1024, 512), (512, 64), (256, 32),\n",
    "    (64, 32, 16), (128, 64, 32), (256, 128, 64),\n",
    "    (64, 32, 32), (32, 32, 16), (1024, 512, 128),\n",
    "    (128, 64, 32, 16), (256, 128, 64, 32)\n",
    " ]\n",
    "\n",
    "drop_out = [True, False]"
   ]
  }
 ],
 "metadata": {
  "kernelspec": {
   "display_name": "Python 3.8.10 ('tesis')",
   "language": "python",
   "name": "python3"
  },
  "language_info": {
   "codemirror_mode": {
    "name": "ipython",
    "version": 3
   },
   "file_extension": ".py",
   "mimetype": "text/x-python",
   "name": "python",
   "nbconvert_exporter": "python",
   "pygments_lexer": "ipython3",
   "version": "3.8.10"
  },
  "orig_nbformat": 4,
  "vscode": {
   "interpreter": {
    "hash": "f4f79008d837168bd48106ab85d9926a031ca3c278193226f692524af2f01691"
   }
  }
 },
 "nbformat": 4,
 "nbformat_minor": 2
}
